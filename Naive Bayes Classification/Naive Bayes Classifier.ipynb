{
 "cells": [
  {
   "cell_type": "markdown",
   "metadata": {},
   "source": [
    "## Comparison of traditional statistical classification method and machine learning approach\n",
    "#### Here are a flower classification problem for which the data is not images of the different species, but numerical data of different features measured from these species and is solved using regular bayesian inference. This is compared to the results of using a gradient based machine learning method of a support vector machine used for clustering and classifying data."
   ]
  },
  {
   "cell_type": "markdown",
   "metadata": {},
   "source": [
    "### Import packages"
   ]
  },
  {
   "cell_type": "code",
   "execution_count": 2,
   "metadata": {},
   "outputs": [],
   "source": [
    "# Just to have som cool inline widgets\n",
    "import ipywidgets as widgets\n",
    "import random\n",
    "import pandas as pd\n",
    "import numpy as np\n",
    "import matplotlib.pyplot as plt\n",
    "import seaborn as sns\n",
    "\n",
    "from sklearn.preprocessing import LabelEncoder\n",
    "from sklearn.preprocessing import StandardScaler\n",
    "\n",
    "import warnings\n",
    "warnings.simplefilter('ignore')\n",
    "warnings.filterwarnings('ignore')"
   ]
  },
  {
   "cell_type": "markdown",
   "metadata": {},
   "source": [
    "# Load the data\n",
    "The dataset consists of a table with information of each of the three different species of the iris flower such as sepal length, sepal width, petal length and petal width with 50 different subjects to each species class (total of 150 subjects). The three different flower species examined are shown below.\n",
    "\n",
    "<img src=\"iris-setosa.png\" width=200 height=200 style=\"float:left; padding-right:40px\" />\n",
    "<img src=\"Iris-versicolor.png\" width=200 height=200 style=\"float:left; padding-right:40px\" />\n",
    "<img src=\"iris-virginica.png\" width=160 height=160 style=\"float:left\"/>\n",
    "<br>\n"
   ]
  },
  {
   "cell_type": "markdown",
   "metadata": {},
   "source": [
    "Which, from the right, is the *Iris Setosa*, *Iris Versicolor* and *Iris Virginica*\n",
    "<br>\n",
    "<br>\n",
    "Data collected from https://archive.ics.uci.edu/ml/datasets/iris \n"
   ]
  },
  {
   "cell_type": "code",
   "execution_count": 3,
   "metadata": {},
   "outputs": [
    {
     "name": "stdout",
     "output_type": "stream",
     "text": [
      "Number of total subjects: 150\n"
     ]
    },
    {
     "data": {
      "text/html": [
       "<div>\n",
       "<style scoped>\n",
       "    .dataframe tbody tr th:only-of-type {\n",
       "        vertical-align: middle;\n",
       "    }\n",
       "\n",
       "    .dataframe tbody tr th {\n",
       "        vertical-align: top;\n",
       "    }\n",
       "\n",
       "    .dataframe thead th {\n",
       "        text-align: right;\n",
       "    }\n",
       "</style>\n",
       "<table border=\"1\" class=\"dataframe\">\n",
       "  <thead>\n",
       "    <tr style=\"text-align: right;\">\n",
       "      <th></th>\n",
       "      <th>sepal length</th>\n",
       "      <th>sepal width</th>\n",
       "      <th>petal length</th>\n",
       "      <th>petal width</th>\n",
       "      <th>Species</th>\n",
       "    </tr>\n",
       "  </thead>\n",
       "  <tbody>\n",
       "    <tr>\n",
       "      <th>0</th>\n",
       "      <td>5.1</td>\n",
       "      <td>3.5</td>\n",
       "      <td>1.4</td>\n",
       "      <td>0.2</td>\n",
       "      <td>Iris-setosa</td>\n",
       "    </tr>\n",
       "    <tr>\n",
       "      <th>1</th>\n",
       "      <td>4.9</td>\n",
       "      <td>3.0</td>\n",
       "      <td>1.4</td>\n",
       "      <td>0.2</td>\n",
       "      <td>Iris-setosa</td>\n",
       "    </tr>\n",
       "    <tr>\n",
       "      <th>2</th>\n",
       "      <td>4.7</td>\n",
       "      <td>3.2</td>\n",
       "      <td>1.3</td>\n",
       "      <td>0.2</td>\n",
       "      <td>Iris-setosa</td>\n",
       "    </tr>\n",
       "    <tr>\n",
       "      <th>3</th>\n",
       "      <td>4.6</td>\n",
       "      <td>3.1</td>\n",
       "      <td>1.5</td>\n",
       "      <td>0.2</td>\n",
       "      <td>Iris-setosa</td>\n",
       "    </tr>\n",
       "    <tr>\n",
       "      <th>4</th>\n",
       "      <td>5.0</td>\n",
       "      <td>3.6</td>\n",
       "      <td>1.4</td>\n",
       "      <td>0.2</td>\n",
       "      <td>Iris-setosa</td>\n",
       "    </tr>\n",
       "  </tbody>\n",
       "</table>\n",
       "</div>"
      ],
      "text/plain": [
       "   sepal length  sepal width  petal length  petal width      Species\n",
       "0           5.1          3.5           1.4          0.2  Iris-setosa\n",
       "1           4.9          3.0           1.4          0.2  Iris-setosa\n",
       "2           4.7          3.2           1.3          0.2  Iris-setosa\n",
       "3           4.6          3.1           1.5          0.2  Iris-setosa\n",
       "4           5.0          3.6           1.4          0.2  Iris-setosa"
      ]
     },
     "execution_count": 3,
     "metadata": {},
     "output_type": "execute_result"
    }
   ],
   "source": [
    "data_name = 'iris.data'\n",
    "data = pd.read_csv(data_name, delimiter=',', names=['sepal length', 'sepal width', \\\n",
    "                                                       'petal length', \"petal width\",\n",
    "                                                      'Species'])\n",
    "print(f'Number of total subjects: {data.shape[0]}')\n",
    "data.head()\n"
   ]
  },
  {
   "cell_type": "code",
   "execution_count": 4,
   "metadata": {},
   "outputs": [],
   "source": [
    "#Plotting the relation between salary and experience\n",
    "wig_col = widgets.Dropdown(\n",
    "                options=[col for col in data.columns.tolist() if col.startswith(('sepal', 'petal'))],\n",
    "                description='Choose a Column to Plot vs. Attributes',\n",
    "                disabled=False,\n",
    "                layout=widgets.Layout(width='40%', height='40px'))"
   ]
  },
  {
   "cell_type": "markdown",
   "metadata": {},
   "source": [
    "# Visualizing distribution of data features\n",
    "The data for each of the four different features and visualized through a distribution plot for each class."
   ]
  },
  {
   "cell_type": "code",
   "execution_count": 27,
   "metadata": {},
   "outputs": [
    {
     "data": {
      "image/png": "[encoded data removed]",
      "text/plain": [
       "<Figure size 1152x864 with 4 Axes>"
      ]
     },
     "metadata": {},
     "output_type": "display_data"
    }
   ],
   "source": [
    "sns.set(style=\"darkgrid\", color_codes=True)\n",
    "features = [col for col in data.columns.tolist() if col.startswith(('sepal', 'petal'))]\n",
    "fig, axes = plt.subplots(2, 2, figsize=(16, 12))\n",
    "sns.despine(left=True)\n",
    "sns.catplot(x=\"Species\", y=features[0], kind=\"boxen\", data=data, ax = axes[0, 0])\n",
    "sns.catplot(x=\"Species\", y=features[1], kind=\"boxen\", data=data, ax = axes[0, 1])\n",
    "sns.catplot(x=\"Species\", y=features[2], kind=\"boxen\", data=data, ax = axes[1, 0])\n",
    "sns.catplot(x=\"Species\", y=features[3], kind=\"boxen\", data=data, ax = axes[1, 1])\n",
    "plt.tight_layout()\n",
    "plt.close(2)\n",
    "plt.close(3)\n",
    "plt.close(4)\n",
    "plt.close(5)\n",
    "plt.show()"
   ]
  },
  {
   "cell_type": "markdown",
   "metadata": {},
   "source": [
    "# Preprocess data\n",
    "The data needs to be processed in order to make it workable. Initially, the name of the categories needs to be converted to integer values in order to index them. Thereafter the dataset needs to be divided into test and train set which is done using k-fold cross validation which uses every *k*:th value in the dataset for validation. This is a form of calibration often used when having a small dataset. Also, as part of the preprocessing, the data is normalized later on in the evaluation of the algorithm."
   ]
  },
  {
   "cell_type": "code",
   "execution_count": 6,
   "metadata": {},
   "outputs": [],
   "source": [
    "\n",
    "def str_to_int(dataset, column):\n",
    "    class_values = [row[column] for row in dataset]\n",
    "    unique = set(class_values)\n",
    "    labels = {}\n",
    "    for i, value in enumerate(unique):\n",
    "        labels[value] = i\n",
    "    for row in dataset:\n",
    "        row[column] = labels[row[column]]\n",
    "    return labels\n",
    "\n",
    "# Split a dataset into k folds\n",
    "def cross_validation_split(dataset, n_folds):\n",
    "    dataset_split = []\n",
    "    dataset_list = list(dataset)\n",
    "    fold_size = int(len(dataset) / n_folds)\n",
    "    for _ in range(n_folds):\n",
    "        fold = []\n",
    "        while len(fold) < fold_size:\n",
    "            index = random.randrange(len(dataset_list)) # To randomize the index to pick for test set\n",
    "            fold.append(dataset_list.pop(index))\n",
    "        dataset_split.append(fold)\n",
    "    return dataset_split\n"
   ]
  },
  {
   "cell_type": "markdown",
   "metadata": {},
   "source": [
    "# GAUSSIAN NAIVE BAYES\n",
    "The gaussian naive bayes algorithm is based on __Bayes Theorem__ that uses the *likelihood*, *prior* and *posterior distribution* to calculate the specific class on new recieved data based on previous given data. Mathematically, it is defined as \n",
    "<br>\n",
    "$$P(A|B) = \\frac{P(B|A)P(A)}{P(B)},$$ \n",
    "or as in this context,\n",
    "<br>\n",
    "$$P(class | data) = \\frac{P(data|class)\\cdot P(class)}{P(data)}.$$ \n",
    "Here, $P(class | data)$ is the posterior distribution, $P(data|class)$ is the likelihood which in this context is a gaussian distribution (also called normal distribution) and $P(class)$ is the prior defined as the probability of a recieved *data* belonging to the specific class. Furthermore is $P(data)$ the marginal distribution defined as the probability of the recieved data.\n",
    "<br>\n",
    "<br>\n",
    "The name *naive* comes from a naive assumption that the data is conditionally independent given the class value in order to simplify the calculations as\n",
    "<br>\n",
    "$$ P(class_1, ..., class_n | data) = P(class_1 | data) ...  P(class_n | data) = \\prod_{k=1}^n P(class_k|data),$$\n",
    "for *n* classes.\n"
   ]
  },
  {
   "cell_type": "markdown",
   "metadata": {},
   "source": [
    "## Gaussian Likelihood\n",
    "The likelihood used will be the normal probability density function (also known as the gaussian pdf) defined as \n",
    "<br>\n",
    "$$f(x) = \\frac{1}{\\sigma \\sqrt{2\\mu}}e^{-\\frac{1}{2}\\left(\\frac{x-\\mu}{\\sigma}\\right)^2},$$\n",
    "where $\\sigma^2$ is the variance of the input x and $\\mu$ is its mean value. Other distributions such as multinomial or bernoulli can be used depending on the appereance of the actual distribution of the data. "
   ]
  },
  {
   "cell_type": "markdown",
   "metadata": {},
   "source": [
    "## Prior and probabilities\n",
    "Below is the functions computing the prior and probability functions in Bayes Theorem"
   ]
  },
  {
   "cell_type": "code",
   "execution_count": 7,
   "metadata": {},
   "outputs": [],
   "source": [
    "# Probability of data belonging to its class - base rate\n",
    "def separate_by_class(dataset):\n",
    "    separated = {}\n",
    "    for i in range(len(dataset)):\n",
    "        data_vec = dataset[i]\n",
    "        class_value = data_vec[-1]\n",
    "        if (class_value not in separated):\n",
    "            separated[class_value] = []\n",
    "        separated[class_value].append(data_vec)\n",
    "    return separated\n",
    "\n",
    "\n",
    "def mean(X):\n",
    "    return sum(X)/float(len(X))\n",
    "\n",
    "def stdev(X):\n",
    "    avg = mean(X)\n",
    "    variance = sum([(x-avg)**2 for x in X]) / float(len(X)-1)\n",
    "    return np.sqrt(variance)\n",
    "\n",
    "# Calculate and gather the mean, stdev and count for each feature\n",
    "def summarize_dataset(dataset):\n",
    "    summaries = [(mean(column), stdev(column), len(column)) for column in zip(*dataset)]\n",
    "    del(summaries[-1])\n",
    "    return summaries\n",
    "\n",
    "# Split dataset by class and compute the mean, stdev and count for each sample\n",
    "def summarize_by_class(dataset):\n",
    "    separated = separate_by_class(dataset)\n",
    "    summaries = {}\n",
    "    for class_value, rows in separated.items():\n",
    "        summaries[class_value] = summarize_dataset(rows)\n",
    "    return summaries\n",
    "\n"
   ]
  },
  {
   "cell_type": "markdown",
   "metadata": {},
   "source": [
    "## Likelihood and posterior\n",
    "Below is the functions computing the likelihood and the posterior for the naive bayes algorithm"
   ]
  },
  {
   "cell_type": "code",
   "execution_count": 8,
   "metadata": {},
   "outputs": [],
   "source": [
    "\n",
    "# Calculate the Gaussian probability distribution function for x\n",
    "def calculate_probability(x, mean, stdev): \n",
    "    return (1 / (np.sqrt(2 * np.pi) * stdev)) * np.exp(-((x-mean)**2 / (2 * stdev**2 )))\n",
    "\n",
    "\n",
    "# Calculate the probabilities of predicting each class for a given row\n",
    "def calculate_class_probabilities(summaries, row):\n",
    "    total_rows = sum([summaries[label][0][2] for label in summaries])\n",
    "    probabilities = dict()\n",
    "    for class_value, class_summaries in summaries.items():\n",
    "        probabilities[class_value] = summaries[class_value][0][2]/float(total_rows)\n",
    "        for i in range(len(class_summaries)):\n",
    "            mean, stdev, _ = class_summaries[i]\n",
    "            probabilities[class_value] *= calculate_probability(row[i], mean, stdev)\n",
    "    return probabilities\n",
    "\n",
    "\n"
   ]
  },
  {
   "cell_type": "markdown",
   "metadata": {},
   "source": [
    "## Algorithm and Evaluation\n",
    "Below is the functions for for the algorithms, predictions and evaluation of the algorithm"
   ]
  },
  {
   "cell_type": "code",
   "execution_count": 9,
   "metadata": {},
   "outputs": [],
   "source": [
    "sc = StandardScaler()\n",
    "\n",
    "# Predict the class for a given row\n",
    "def predict(summaries, row):\n",
    "    probabilities = calculate_class_probabilities(summaries, row)\n",
    "    best_label, best_prob = None, -1\n",
    "    for class_value, probability in probabilities.items():\n",
    "        if best_label is None or probability > best_prob:\n",
    "            best_prob = probability\n",
    "            best_label = class_value\n",
    "    return best_label\n",
    "\n",
    "# Naive Bayes Algorithm\n",
    "def naive_bayes(train, test):\n",
    "    summarize = summarize_by_class(train)\n",
    "    predictions = []\n",
    "    for row in test:\n",
    "        output = predict(summarize, row)\n",
    "        predictions.append(output)\n",
    "    return predictions\n",
    "\n",
    "\n",
    "# Calculate accuracy percentage\n",
    "def accuracy_perc(actual, predicted):\n",
    "    correct = 0\n",
    "    for i in range(len(actual)):\n",
    "        if actual[i] == predicted[i]:\n",
    "            correct += 1\n",
    "    return correct / float(len(actual)) * 100.0\n",
    "\n",
    "# Evaluate an algorithm using a cross validation split\n",
    "def evaluate_algorithm(dataset, n_folds, *args):\n",
    "    folds = cross_validation_split(dataset, n_folds)\n",
    "    scores = []\n",
    "    for fold in folds:\n",
    "        train_set = list(folds)\n",
    "        train_set.remove(fold)\n",
    "        train_set = sum(train_set, [])\n",
    "        test_set = []\n",
    "        for row in fold:\n",
    "            row_list = list(row)\n",
    "            test_set.append(row_list)\n",
    "            row_list[-1] = None\n",
    "        train_set[:][:-1] = sc.fit_transform(train_set[:][:-1])\n",
    "        test_set[:][:-1] = sc.transform(train_set[:][:-1])\n",
    "        predicted = naive_bayes(train_set, test_set)\n",
    "        actual = [row[-1] for row in fold]\n",
    "        accuracy = accuracy_perc(actual, predicted)\n",
    "        scores.append(accuracy)\n",
    "    return scores\n",
    "\n"
   ]
  },
  {
   "cell_type": "markdown",
   "metadata": {},
   "source": [
    "## Running it all"
   ]
  },
  {
   "cell_type": "code",
   "execution_count": 10,
   "metadata": {},
   "outputs": [
    {
     "name": "stdout",
     "output_type": "stream",
     "text": [
      "Mean Accuracy of algorithm: 95.33%\n"
     ]
    }
   ],
   "source": [
    "# Converting dataframe to list for easier implementation\n",
    "dataset = data.values.tolist()\n",
    "\n",
    "# convert class column to integers\n",
    "str_to_int(dataset, len(dataset[0])-1)\n",
    "\n",
    "# evaluate algorithm with dataset split of 150/5% test ratio\n",
    "n_folds = 5\n",
    "\n",
    "# Running and evaluating algorithm\n",
    "scores = evaluate_algorithm(dataset, n_folds)\n",
    "print('Mean Accuracy of algorithm: %.2f%%' % (sum(scores)/float(len(scores))))"
   ]
  },
  {
   "cell_type": "markdown",
   "metadata": {},
   "source": [
    "# Comparing to ML-solution\n",
    "Comparing the naive bayes algorithm to a machine learning approach using a support vector classifier that uses a gradient based regression learning to predict the iris species "
   ]
  },
  {
   "cell_type": "markdown",
   "metadata": {},
   "source": [
    "# Preprocess data\n",
    "Dividing the dataset into labels and input data (y and x), encoding it and then splitting it up into a train and test set. Lastly, normalizing the input data"
   ]
  },
  {
   "cell_type": "code",
   "execution_count": 11,
   "metadata": {},
   "outputs": [],
   "source": [
    "# Seperating into x and y\n",
    "X = data.iloc[:,:-1].values  \n",
    "y = data.iloc[:,-1].values"
   ]
  },
  {
   "cell_type": "code",
   "execution_count": 12,
   "metadata": {},
   "outputs": [
    {
     "name": "stdout",
     "output_type": "stream",
     "text": [
      "Number of unique labels: 3\n"
     ]
    }
   ],
   "source": [
    "# Encode the labels\n",
    "labelencoder = LabelEncoder()\n",
    "data['Species'] = labelencoder.fit_transform(data['Species'])\n",
    "labels = data['Species']\n",
    "print(f'Number of unique labels: {len(np.unique(labels))}')"
   ]
  },
  {
   "cell_type": "code",
   "execution_count": 13,
   "metadata": {},
   "outputs": [
    {
     "data": {
      "application/vnd.jupyter.widget-view+json": {
       "model_id": "7278840741504627ac9469bdf09db474",
       "version_major": 2,
       "version_minor": 0
      },
      "text/plain": [
       "FloatSlider(value=0.2, description='Test Size :', max=0.6, min=0.01)"
      ]
     },
     "metadata": {},
     "output_type": "display_data"
    }
   ],
   "source": [
    "# Choose ratio size of test set\n",
    "test_size = widgets.FloatSlider(min=0.01, max=0.6, value=0.2, description=\"Test Size :\", tooltips=['Usually 20-30%'])\n",
    "display(test_size)"
   ]
  },
  {
   "cell_type": "code",
   "execution_count": 14,
   "metadata": {},
   "outputs": [
    {
     "name": "stdout",
     "output_type": "stream",
     "text": [
      "Size of input vector of training set: (120, 4)\n",
      "Size of input vector of test set: (30, 4)\n"
     ]
    }
   ],
   "source": [
    "# Dividing into test/train with test ratio\n",
    "from sklearn.model_selection import train_test_split\n",
    "X_train, X_test, y_train, y_test = train_test_split(X ,y, test_size=test_size.value, random_state = 0) \n",
    "print(f\"Size of input vector of training set: {X_train.shape}\")\n",
    "print(f\"Size of input vector of test set: {X_test.shape}\")"
   ]
  },
  {
   "cell_type": "code",
   "execution_count": 15,
   "metadata": {},
   "outputs": [
    {
     "name": "stdout",
     "output_type": "stream",
     "text": [
      "Input before normalizing: \n",
      " [[5.8 2.8 5.1 2.4]]\n",
      "\n",
      " Input after normalizing: \n",
      " [[-0.09544771 -0.58900572  0.72247648  1.51195265]]\n"
     ]
    }
   ],
   "source": [
    "# Normalizing the input data\n",
    "print('Input before normalizing: \\n', X_test[:1])\n",
    "sc = StandardScaler()\n",
    "\n",
    "X_train = sc.fit_transform(X_train)\n",
    "X_test = sc.transform(X_test) \n",
    "print('\\n Input after normalizing: \\n', X_test[:1])\n"
   ]
  },
  {
   "cell_type": "markdown",
   "metadata": {},
   "source": [
    "# Import the Support Vector Machine Classifier\n",
    "Using the already built SVC from sklearn and trains it on the training data"
   ]
  },
  {
   "cell_type": "code",
   "execution_count": 18,
   "metadata": {},
   "outputs": [
    {
     "name": "stdout",
     "output_type": "stream",
     "text": [
      "Time of training process: 0.0020 seconds\n"
     ]
    }
   ],
   "source": [
    "from sklearn.svm import SVC\n",
    "import time\n",
    "\n",
    "\n",
    "model = SVC()\n",
    "init_time = time.time()\n",
    "model = model.fit(X_train,y_train)\n",
    "print('Time of training process: {:.4f} seconds'.format(time.time() - init_time))"
   ]
  },
  {
   "cell_type": "markdown",
   "metadata": {},
   "source": [
    "### Predicting on the test data and calculate accuracy"
   ]
  },
  {
   "cell_type": "code",
   "execution_count": 19,
   "metadata": {},
   "outputs": [],
   "source": [
    "y_pred=model.predict(X_test)"
   ]
  },
  {
   "cell_type": "code",
   "execution_count": 20,
   "metadata": {},
   "outputs": [
    {
     "name": "stdout",
     "output_type": "stream",
     "text": [
      "Accuracy on test set: 100.00%\n"
     ]
    }
   ],
   "source": [
    "acc_list = (y_pred==y_test).astype(int)\n",
    "acc = (sum(acc_list) / len(acc_list))*100\n",
    "print('Accuracy on test set: %.2f%%' % acc)"
   ]
  },
  {
   "cell_type": "markdown",
   "metadata": {},
   "source": [
    "### As seen above, the SVC reached 100% accuracy on the test set containing 30 samples after training on 120 samples which took 2 ms. This is alot better than the naive bayes algorithm which still had a decent performance"
   ]
  }
 ],
 "metadata": {
  "kernelspec": {
   "display_name": "Python 3",
   "language": "python",
   "name": "python3"
  },
  "language_info": {
   "codemirror_mode": {
    "name": "ipython",
    "version": 3
   },
   "file_extension": ".py",
   "mimetype": "text/x-python",
   "name": "python",
   "nbconvert_exporter": "python",
   "pygments_lexer": "ipython3",
   "version": "3.7.3"
  }
 },
 "nbformat": 4,
 "nbformat_minor": 2
}
